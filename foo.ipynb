{
 "cells": [
  {
   "cell_type": "code",
   "execution_count": null,
   "id": "771b7b5e",
   "metadata": {},
   "outputs": [],
   "source": [
    "def is_divisible_by_k(x, k):\n",
    "'''\n",
    "Checks whether x is divisible by k.\n",
    "'''\n",
    "assert x%k == 0\n",
    "'''\n",
    "Store all the integers that are multiples of 2 or 5 or 7 that are lower\n",
    "or equal to 1000 (excluding doubles)\n",
    "'''\n",
    "x = ()\n",
    "for i in range(1000):\n",
    "if (is_divisible_by_k(x, 2) & is_divisible_by_k(x, 3)) |\n",
    "is_divisible_by_k(x, 7):\n",
    "x.append(i)\n",
    "'''\n",
    "Sum all the integers that are multiples of 2 or 5 or 7 that are lower\n",
    "or equal to 1000 (excluding doubles)\n",
    "'''\n",
    "sum(x)\n"
   ]
  }
 ],
 "metadata": {
  "language_info": {
   "name": "python"
  }
 },
 "nbformat": 4,
 "nbformat_minor": 5
}

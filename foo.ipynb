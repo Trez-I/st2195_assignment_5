{
 "cells": [
  {
   "cell_type": "markdown",
   "id": "fd103d60",
   "metadata": {},
   "source": [
    "### Find and fix all bugs  "
   ]
  },
  {
   "cell_type": "code",
   "execution_count": null,
   "id": "771b7b5e",
   "metadata": {},
   "outputs": [],
   "source": [
    "def is_divisible_by_k(x, k):\n",
    "    '''\n",
    "    Checks whether x is divisible by k.\n",
    "    '''\n",
    "    return x%k == 0"
   ]
  },
  {
   "cell_type": "code",
   "execution_count": 7,
   "id": "c7b0d215",
   "metadata": {},
   "outputs": [
    {
     "data": {
      "text/plain": [
       "True"
      ]
     },
     "execution_count": 7,
     "metadata": {},
     "output_type": "execute_result"
    }
   ],
   "source": [
    "is_divisible_by_k(12,3)"
   ]
  },
  {
   "cell_type": "code",
   "execution_count": 8,
   "id": "5c2e7019",
   "metadata": {},
   "outputs": [
    {
     "data": {
      "text/plain": [
       "False"
      ]
     },
     "execution_count": 8,
     "metadata": {},
     "output_type": "execute_result"
    }
   ],
   "source": [
    "is_divisible_by_k(12,5)"
   ]
  },
  {
   "cell_type": "code",
   "execution_count": null,
   "id": "825d3536",
   "metadata": {},
   "outputs": [],
   "source": [
    "'''\n",
    "Store all the integers that are multiples of 2 or 5 or 7 that are lower\n",
    "or equal to 1000 (excluding doubles)\n",
    "'''\n",
    "x = [1, 2, 5, 6, 7, 8, 10, 10,  12, 14, 5, 10, 15, 20, 14, 21, 28, 28]"
   ]
  },
  {
   "cell_type": "code",
   "execution_count": null,
   "id": "74d11695",
   "metadata": {},
   "outputs": [],
   "source": [
    "x = []\n",
    "for i in range(1001):\n",
    "    if (is_divisible_by_k(x, 2) & is_divisible_by_k(x, 3)) |\n",
    "    is_divisible_by_k(x, 7):\n",
    "    x.append(i)\n",
    "    '''\n",
    "    Sum all the integers that are multiples of 2 or 5 or 7 that are lower\n",
    "    or equal to 1000 (excluding doubles)\n",
    "    '''\n",
    "    sum(x)\n"
   ]
  }
 ],
 "metadata": {
  "kernelspec": {
   "display_name": "Python 3",
   "language": "python",
   "name": "python3"
  },
  "language_info": {
   "codemirror_mode": {
    "name": "ipython",
    "version": 3
   },
   "file_extension": ".py",
   "mimetype": "text/x-python",
   "name": "python",
   "nbconvert_exporter": "python",
   "pygments_lexer": "ipython3",
   "version": "3.13.3"
  }
 },
 "nbformat": 4,
 "nbformat_minor": 5
}
